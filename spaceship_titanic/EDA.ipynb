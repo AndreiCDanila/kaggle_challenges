{
 "cells": [
  {
   "cell_type": "markdown",
   "id": "51dad894",
   "metadata": {},
   "source": [
    "# Spaceship Titanic"
   ]
  },
  {
   "cell_type": "markdown",
   "id": "ce5ed55d",
   "metadata": {},
   "source": [
    "## Import"
   ]
  },
  {
   "cell_type": "code",
   "execution_count": 1,
   "id": "3146cea7",
   "metadata": {},
   "outputs": [],
   "source": [
    "import pandas as pd\n",
    "import numpy as np\n",
    "from sklearn.model_selection import train_test_split\n",
    "from sklearn.impute import SimpleImputer\n",
    "from sklearn.preprocessing import OneHotEncoder"
   ]
  },
  {
   "cell_type": "markdown",
   "id": "5f1dcd41",
   "metadata": {},
   "source": [
    "## Loading the Data"
   ]
  },
  {
   "cell_type": "code",
   "execution_count": 2,
   "id": "37266cdd",
   "metadata": {},
   "outputs": [],
   "source": [
    "train = pd.read_csv(\"/Users/andrei/Downloads/spaceship-titanic/train.csv\")"
   ]
  },
  {
   "cell_type": "code",
   "execution_count": 3,
   "id": "6ad8fe28",
   "metadata": {},
   "outputs": [],
   "source": [
    "X = train.drop(columns = [\"Transported\", \"PassengerId\", \"Name\"])"
   ]
  },
  {
   "cell_type": "code",
   "execution_count": 4,
   "id": "838cb751",
   "metadata": {},
   "outputs": [],
   "source": [
    "y = train[[\"Transported\"]]"
   ]
  },
  {
   "cell_type": "code",
   "execution_count": 5,
   "id": "57eb2115",
   "metadata": {},
   "outputs": [],
   "source": [
    "y = y.Transported.astype(int)"
   ]
  },
  {
   "cell_type": "code",
   "execution_count": 6,
   "id": "8ee5050e",
   "metadata": {},
   "outputs": [
    {
     "data": {
      "text/plain": [
       "0       0\n",
       "1       1\n",
       "2       0\n",
       "3       0\n",
       "4       1\n",
       "       ..\n",
       "8688    0\n",
       "8689    0\n",
       "8690    1\n",
       "8691    0\n",
       "8692    1\n",
       "Name: Transported, Length: 8693, dtype: int64"
      ]
     },
     "execution_count": 6,
     "metadata": {},
     "output_type": "execute_result"
    }
   ],
   "source": [
    "y"
   ]
  },
  {
   "cell_type": "markdown",
   "id": "41518892",
   "metadata": {},
   "source": [
    "## Preprocessing"
   ]
  },
  {
   "cell_type": "markdown",
   "id": "e601ebb1",
   "metadata": {},
   "source": [
    "### Imputing"
   ]
  },
  {
   "cell_type": "code",
   "execution_count": 7,
   "id": "5599e967",
   "metadata": {},
   "outputs": [],
   "source": [
    "X[['Deck','Room', 'Side']] = X.Cabin.str.split(\"/\",expand=True)"
   ]
  },
  {
   "cell_type": "code",
   "execution_count": 8,
   "id": "987d9ba7",
   "metadata": {},
   "outputs": [],
   "source": [
    "X.drop(columns = [\"Room\"], inplace = True)"
   ]
  },
  {
   "cell_type": "code",
   "execution_count": 9,
   "id": "a277c4c5",
   "metadata": {},
   "outputs": [],
   "source": [
    "cat_imputer = SimpleImputer(strategy = \"most_frequent\")"
   ]
  },
  {
   "cell_type": "code",
   "execution_count": 10,
   "id": "208a51a7",
   "metadata": {},
   "outputs": [],
   "source": [
    "age_imputer = SimpleImputer()"
   ]
  },
  {
   "cell_type": "code",
   "execution_count": 11,
   "id": "eff3480c",
   "metadata": {},
   "outputs": [],
   "source": [
    "mean_imputer = SimpleImputer(fill_value = 0)"
   ]
  },
  {
   "cell_type": "code",
   "execution_count": 12,
   "id": "005292e1",
   "metadata": {},
   "outputs": [],
   "source": [
    "X[[\"HomePlanet\", \"CryoSleep\", \"Destination\", \"VIP\", \"Deck\", \"Side\"]] = cat_imputer.fit_transform(X[[\"HomePlanet\", \"CryoSleep\", \"Destination\", \"VIP\", \"Deck\", \"Side\"]])"
   ]
  },
  {
   "cell_type": "code",
   "execution_count": 13,
   "id": "d714da58",
   "metadata": {},
   "outputs": [],
   "source": [
    "X[[\"Age\"]] = age_imputer.fit_transform(X[[\"Age\"]])"
   ]
  },
  {
   "cell_type": "code",
   "execution_count": 14,
   "id": "bbdd106c",
   "metadata": {},
   "outputs": [],
   "source": [
    "X[[\"RoomService\", \"FoodCourt\", \"ShoppingMall\", \"Spa\", \"VRDeck\"]] = mean_imputer.fit_transform(X[[\"RoomService\", \"FoodCourt\", \"ShoppingMall\", \"Spa\", \"VRDeck\"]])"
   ]
  },
  {
   "cell_type": "code",
   "execution_count": 15,
   "id": "97f18695",
   "metadata": {
    "scrolled": true
   },
   "outputs": [
    {
     "data": {
      "text/plain": [
       "HomePlanet        0\n",
       "CryoSleep         0\n",
       "Cabin           199\n",
       "Destination       0\n",
       "Age               0\n",
       "VIP               0\n",
       "RoomService       0\n",
       "FoodCourt         0\n",
       "ShoppingMall      0\n",
       "Spa               0\n",
       "VRDeck            0\n",
       "Deck              0\n",
       "Side              0\n",
       "dtype: int64"
      ]
     },
     "execution_count": 15,
     "metadata": {},
     "output_type": "execute_result"
    }
   ],
   "source": [
    "X.isna().sum()"
   ]
  },
  {
   "cell_type": "markdown",
   "id": "a13d7ca5",
   "metadata": {},
   "source": [
    "### Encoding"
   ]
  },
  {
   "cell_type": "code",
   "execution_count": 16,
   "id": "c7ccf5ac",
   "metadata": {},
   "outputs": [],
   "source": [
    "X[\"CryoSleep\"], X[\"VIP\"] = X[\"CryoSleep\"].astype(int), X[\"VIP\"].astype(int)"
   ]
  },
  {
   "cell_type": "code",
   "execution_count": 17,
   "id": "ad6b1e26",
   "metadata": {},
   "outputs": [],
   "source": [
    "X[\"isPort\"] = np.where(X[\"Side\"] == \"P\", 0, 1)"
   ]
  },
  {
   "cell_type": "code",
   "execution_count": 18,
   "id": "a52bc631",
   "metadata": {},
   "outputs": [],
   "source": [
    "X.drop(columns = [\"Side\"], inplace = True)"
   ]
  },
  {
   "cell_type": "code",
   "execution_count": 19,
   "id": "b9b28691",
   "metadata": {},
   "outputs": [],
   "source": [
    "X.drop(columns = [\"Cabin\"], inplace = True)"
   ]
  },
  {
   "cell_type": "code",
   "execution_count": 20,
   "id": "0592f6ee",
   "metadata": {},
   "outputs": [],
   "source": [
    "ohe = OneHotEncoder(sparse=False)\n",
    "\n",
    "#One-hot-encode the categorical columns.\n",
    "#Unfortunately outputs an array instead of dataframe.\n",
    "array_hot_encoded = ohe.fit_transform(X[['HomePlanet','Destination','Deck']])\n",
    "cols = ohe.get_feature_names_out(['HomePlanet','Destination','Deck'])\n",
    "#Convert it to df\n",
    "data_hot_encoded = pd.DataFrame(array_hot_encoded, index=X.index, columns=cols)\n",
    "\n",
    "#Extract only the columns that didnt need to be encoded\n",
    "data_other_cols = X.drop(columns=['HomePlanet','Destination','Deck'])\n",
    "\n",
    "#Concatenate the two dataframes : \n",
    "X_ohe = pd.concat([data_hot_encoded, data_other_cols], axis=1)"
   ]
  },
  {
   "cell_type": "code",
   "execution_count": 21,
   "id": "c220ad00",
   "metadata": {},
   "outputs": [],
   "source": [
    "X = X_ohe"
   ]
  },
  {
   "cell_type": "markdown",
   "id": "fc723f37",
   "metadata": {},
   "source": [
    "### Normalization"
   ]
  },
  {
   "cell_type": "code",
   "execution_count": 22,
   "id": "e651fd70",
   "metadata": {},
   "outputs": [],
   "source": [
    "import matplotlib.pyplot as plt"
   ]
  },
  {
   "cell_type": "code",
   "execution_count": 23,
   "id": "9e1cf078",
   "metadata": {},
   "outputs": [],
   "source": [
    "from sklearn.preprocessing import StandardScaler, RobustScaler"
   ]
  },
  {
   "cell_type": "code",
   "execution_count": 24,
   "id": "12a050e1",
   "metadata": {},
   "outputs": [],
   "source": [
    "standard = StandardScaler()\n",
    "robust = RobustScaler()"
   ]
  },
  {
   "cell_type": "code",
   "execution_count": 25,
   "id": "b2a24ca1",
   "metadata": {},
   "outputs": [],
   "source": [
    "X[\"Age\"] = standard.fit_transform(X[[\"Age\"]])"
   ]
  },
  {
   "cell_type": "code",
   "execution_count": 26,
   "id": "80cff639",
   "metadata": {},
   "outputs": [],
   "source": [
    "X[\"RoomService\"] = robust.fit_transform(X[[\"RoomService\"]])"
   ]
  },
  {
   "cell_type": "code",
   "execution_count": 27,
   "id": "91bf27cc",
   "metadata": {},
   "outputs": [],
   "source": [
    "X[\"VRDeck\"] = robust.fit_transform(X[[\"VRDeck\"]])"
   ]
  },
  {
   "cell_type": "code",
   "execution_count": 28,
   "id": "a868f70c",
   "metadata": {},
   "outputs": [],
   "source": [
    "X[\"FoodCourt\"] = robust.fit_transform(X[[\"FoodCourt\"]])"
   ]
  },
  {
   "cell_type": "code",
   "execution_count": 29,
   "id": "ede5377c",
   "metadata": {},
   "outputs": [],
   "source": [
    "X[\"ShoppingMall\"] = robust.fit_transform(X[[\"ShoppingMall\"]])"
   ]
  },
  {
   "cell_type": "code",
   "execution_count": 30,
   "id": "948147fe",
   "metadata": {},
   "outputs": [],
   "source": [
    "X[\"Spa\"] = robust.fit_transform(X[[\"Spa\"]])"
   ]
  },
  {
   "cell_type": "code",
   "execution_count": 31,
   "id": "5e698571",
   "metadata": {},
   "outputs": [
    {
     "data": {
      "text/html": [
       "<div>\n",
       "<style scoped>\n",
       "    .dataframe tbody tr th:only-of-type {\n",
       "        vertical-align: middle;\n",
       "    }\n",
       "\n",
       "    .dataframe tbody tr th {\n",
       "        vertical-align: top;\n",
       "    }\n",
       "\n",
       "    .dataframe thead th {\n",
       "        text-align: right;\n",
       "    }\n",
       "</style>\n",
       "<table border=\"1\" class=\"dataframe\">\n",
       "  <thead>\n",
       "    <tr style=\"text-align: right;\">\n",
       "      <th></th>\n",
       "      <th>HomePlanet_Earth</th>\n",
       "      <th>HomePlanet_Europa</th>\n",
       "      <th>HomePlanet_Mars</th>\n",
       "      <th>Destination_55 Cancri e</th>\n",
       "      <th>Destination_PSO J318.5-22</th>\n",
       "      <th>Destination_TRAPPIST-1e</th>\n",
       "      <th>Deck_A</th>\n",
       "      <th>Deck_B</th>\n",
       "      <th>Deck_C</th>\n",
       "      <th>Deck_D</th>\n",
       "      <th>...</th>\n",
       "      <th>Deck_T</th>\n",
       "      <th>CryoSleep</th>\n",
       "      <th>Age</th>\n",
       "      <th>VIP</th>\n",
       "      <th>RoomService</th>\n",
       "      <th>FoodCourt</th>\n",
       "      <th>ShoppingMall</th>\n",
       "      <th>Spa</th>\n",
       "      <th>VRDeck</th>\n",
       "      <th>isPort</th>\n",
       "    </tr>\n",
       "  </thead>\n",
       "  <tbody>\n",
       "    <tr>\n",
       "      <th>0</th>\n",
       "      <td>0.0</td>\n",
       "      <td>1.0</td>\n",
       "      <td>0.0</td>\n",
       "      <td>0.0</td>\n",
       "      <td>0.0</td>\n",
       "      <td>1.0</td>\n",
       "      <td>0.0</td>\n",
       "      <td>1.0</td>\n",
       "      <td>0.0</td>\n",
       "      <td>0.0</td>\n",
       "      <td>...</td>\n",
       "      <td>0.0</td>\n",
       "      <td>0</td>\n",
       "      <td>0.709437</td>\n",
       "      <td>0</td>\n",
       "      <td>0.000000</td>\n",
       "      <td>0.000000</td>\n",
       "      <td>0.000000</td>\n",
       "      <td>0.000000</td>\n",
       "      <td>0.000000</td>\n",
       "      <td>0</td>\n",
       "    </tr>\n",
       "    <tr>\n",
       "      <th>1</th>\n",
       "      <td>1.0</td>\n",
       "      <td>0.0</td>\n",
       "      <td>0.0</td>\n",
       "      <td>0.0</td>\n",
       "      <td>0.0</td>\n",
       "      <td>1.0</td>\n",
       "      <td>0.0</td>\n",
       "      <td>0.0</td>\n",
       "      <td>0.0</td>\n",
       "      <td>0.0</td>\n",
       "      <td>...</td>\n",
       "      <td>0.0</td>\n",
       "      <td>0</td>\n",
       "      <td>-0.336717</td>\n",
       "      <td>0</td>\n",
       "      <td>1.397436</td>\n",
       "      <td>0.076271</td>\n",
       "      <td>0.555556</td>\n",
       "      <td>6.168539</td>\n",
       "      <td>0.619718</td>\n",
       "      <td>1</td>\n",
       "    </tr>\n",
       "    <tr>\n",
       "      <th>2</th>\n",
       "      <td>0.0</td>\n",
       "      <td>1.0</td>\n",
       "      <td>0.0</td>\n",
       "      <td>0.0</td>\n",
       "      <td>0.0</td>\n",
       "      <td>1.0</td>\n",
       "      <td>1.0</td>\n",
       "      <td>0.0</td>\n",
       "      <td>0.0</td>\n",
       "      <td>0.0</td>\n",
       "      <td>...</td>\n",
       "      <td>0.0</td>\n",
       "      <td>0</td>\n",
       "      <td>2.034566</td>\n",
       "      <td>1</td>\n",
       "      <td>0.551282</td>\n",
       "      <td>30.305085</td>\n",
       "      <td>0.000000</td>\n",
       "      <td>75.449438</td>\n",
       "      <td>0.690141</td>\n",
       "      <td>1</td>\n",
       "    </tr>\n",
       "    <tr>\n",
       "      <th>3</th>\n",
       "      <td>0.0</td>\n",
       "      <td>1.0</td>\n",
       "      <td>0.0</td>\n",
       "      <td>0.0</td>\n",
       "      <td>0.0</td>\n",
       "      <td>1.0</td>\n",
       "      <td>1.0</td>\n",
       "      <td>0.0</td>\n",
       "      <td>0.0</td>\n",
       "      <td>0.0</td>\n",
       "      <td>...</td>\n",
       "      <td>0.0</td>\n",
       "      <td>0</td>\n",
       "      <td>0.290975</td>\n",
       "      <td>0</td>\n",
       "      <td>0.000000</td>\n",
       "      <td>10.872881</td>\n",
       "      <td>8.244444</td>\n",
       "      <td>37.404494</td>\n",
       "      <td>2.718310</td>\n",
       "      <td>1</td>\n",
       "    </tr>\n",
       "    <tr>\n",
       "      <th>4</th>\n",
       "      <td>1.0</td>\n",
       "      <td>0.0</td>\n",
       "      <td>0.0</td>\n",
       "      <td>0.0</td>\n",
       "      <td>0.0</td>\n",
       "      <td>1.0</td>\n",
       "      <td>0.0</td>\n",
       "      <td>0.0</td>\n",
       "      <td>0.0</td>\n",
       "      <td>0.0</td>\n",
       "      <td>...</td>\n",
       "      <td>0.0</td>\n",
       "      <td>0</td>\n",
       "      <td>-0.894666</td>\n",
       "      <td>0</td>\n",
       "      <td>3.884615</td>\n",
       "      <td>0.593220</td>\n",
       "      <td>3.355556</td>\n",
       "      <td>6.348315</td>\n",
       "      <td>0.028169</td>\n",
       "      <td>1</td>\n",
       "    </tr>\n",
       "  </tbody>\n",
       "</table>\n",
       "<p>5 rows × 23 columns</p>\n",
       "</div>"
      ],
      "text/plain": [
       "   HomePlanet_Earth  HomePlanet_Europa  HomePlanet_Mars  \\\n",
       "0               0.0                1.0              0.0   \n",
       "1               1.0                0.0              0.0   \n",
       "2               0.0                1.0              0.0   \n",
       "3               0.0                1.0              0.0   \n",
       "4               1.0                0.0              0.0   \n",
       "\n",
       "   Destination_55 Cancri e  Destination_PSO J318.5-22  \\\n",
       "0                      0.0                        0.0   \n",
       "1                      0.0                        0.0   \n",
       "2                      0.0                        0.0   \n",
       "3                      0.0                        0.0   \n",
       "4                      0.0                        0.0   \n",
       "\n",
       "   Destination_TRAPPIST-1e  Deck_A  Deck_B  Deck_C  Deck_D  ...  Deck_T  \\\n",
       "0                      1.0     0.0     1.0     0.0     0.0  ...     0.0   \n",
       "1                      1.0     0.0     0.0     0.0     0.0  ...     0.0   \n",
       "2                      1.0     1.0     0.0     0.0     0.0  ...     0.0   \n",
       "3                      1.0     1.0     0.0     0.0     0.0  ...     0.0   \n",
       "4                      1.0     0.0     0.0     0.0     0.0  ...     0.0   \n",
       "\n",
       "   CryoSleep       Age  VIP  RoomService  FoodCourt  ShoppingMall        Spa  \\\n",
       "0          0  0.709437    0     0.000000   0.000000      0.000000   0.000000   \n",
       "1          0 -0.336717    0     1.397436   0.076271      0.555556   6.168539   \n",
       "2          0  2.034566    1     0.551282  30.305085      0.000000  75.449438   \n",
       "3          0  0.290975    0     0.000000  10.872881      8.244444  37.404494   \n",
       "4          0 -0.894666    0     3.884615   0.593220      3.355556   6.348315   \n",
       "\n",
       "     VRDeck  isPort  \n",
       "0  0.000000       0  \n",
       "1  0.619718       1  \n",
       "2  0.690141       1  \n",
       "3  2.718310       1  \n",
       "4  0.028169       1  \n",
       "\n",
       "[5 rows x 23 columns]"
      ]
     },
     "execution_count": 31,
     "metadata": {},
     "output_type": "execute_result"
    }
   ],
   "source": [
    "X.head()"
   ]
  },
  {
   "cell_type": "markdown",
   "id": "517aea48",
   "metadata": {},
   "source": [
    "### Split"
   ]
  },
  {
   "cell_type": "code",
   "execution_count": 45,
   "id": "45116adf",
   "metadata": {},
   "outputs": [],
   "source": [
    "X_train, X_val, y_train, y_val = train_test_split(X, y, test_size = 0.2, random_state = 42)"
   ]
  },
  {
   "cell_type": "markdown",
   "id": "ab749541",
   "metadata": {},
   "source": [
    "## Prediction"
   ]
  },
  {
   "cell_type": "code",
   "execution_count": 35,
   "id": "3a740f01",
   "metadata": {},
   "outputs": [],
   "source": [
    "import xgboost as xgb\n",
    "from sklearn.metrics import accuracy_score"
   ]
  },
  {
   "cell_type": "code",
   "execution_count": 54,
   "id": "1e0b34a1",
   "metadata": {},
   "outputs": [
    {
     "name": "stdout",
     "output_type": "stream",
     "text": [
      "[0]\tvalidation_0-error:0.24382\n",
      "[1]\tvalidation_0-error:0.24324\n",
      "[2]\tvalidation_0-error:0.24842\n",
      "[3]\tvalidation_0-error:0.24324\n",
      "[4]\tvalidation_0-error:0.24439\n",
      "[5]\tvalidation_0-error:0.24382\n",
      "[6]\tvalidation_0-error:0.24554\n",
      "[7]\tvalidation_0-error:0.24324\n",
      "[8]\tvalidation_0-error:0.24382\n",
      "[9]\tvalidation_0-error:0.24209\n",
      "[10]\tvalidation_0-error:0.24324\n",
      "[11]\tvalidation_0-error:0.24267\n",
      "[12]\tvalidation_0-error:0.24382\n",
      "[13]\tvalidation_0-error:0.24382\n",
      "[14]\tvalidation_0-error:0.24209\n",
      "[15]\tvalidation_0-error:0.24382\n",
      "[16]\tvalidation_0-error:0.24382\n",
      "[17]\tvalidation_0-error:0.24324\n",
      "[18]\tvalidation_0-error:0.24324\n",
      "[19]\tvalidation_0-error:0.24497\n",
      "[20]\tvalidation_0-error:0.24439\n",
      "[21]\tvalidation_0-error:0.24497\n",
      "[22]\tvalidation_0-error:0.24267\n",
      "[23]\tvalidation_0-error:0.24324\n",
      "[24]\tvalidation_0-error:0.24324\n",
      "[25]\tvalidation_0-error:0.24324\n",
      "[26]\tvalidation_0-error:0.24554\n",
      "[27]\tvalidation_0-error:0.24554\n",
      "[28]\tvalidation_0-error:0.24554\n",
      "[29]\tvalidation_0-error:0.24612\n",
      "[30]\tvalidation_0-error:0.24669\n",
      "[31]\tvalidation_0-error:0.24727\n",
      "[32]\tvalidation_0-error:0.24784\n",
      "[33]\tvalidation_0-error:0.24784\n",
      "[34]\tvalidation_0-error:0.24784\n",
      "[35]\tvalidation_0-error:0.24784\n",
      "[36]\tvalidation_0-error:0.24899\n",
      "[37]\tvalidation_0-error:0.24899\n",
      "[38]\tvalidation_0-error:0.24784\n",
      "[39]\tvalidation_0-error:0.24784\n",
      "[40]\tvalidation_0-error:0.24842\n",
      "[41]\tvalidation_0-error:0.24899\n",
      "[42]\tvalidation_0-error:0.24842\n",
      "[43]\tvalidation_0-error:0.24957\n",
      "[44]\tvalidation_0-error:0.24899\n",
      "[45]\tvalidation_0-error:0.24899\n",
      "[46]\tvalidation_0-error:0.24899\n",
      "[47]\tvalidation_0-error:0.24842\n",
      "[48]\tvalidation_0-error:0.24842\n",
      "[49]\tvalidation_0-error:0.24784\n",
      "[50]\tvalidation_0-error:0.24784\n",
      "[51]\tvalidation_0-error:0.24899\n",
      "[52]\tvalidation_0-error:0.24899\n",
      "[53]\tvalidation_0-error:0.25014\n",
      "[54]\tvalidation_0-error:0.25014\n",
      "[55]\tvalidation_0-error:0.24957\n",
      "[56]\tvalidation_0-error:0.24957\n",
      "[57]\tvalidation_0-error:0.24842\n",
      "[58]\tvalidation_0-error:0.24784\n",
      "[59]\tvalidation_0-error:0.24727\n",
      "[60]\tvalidation_0-error:0.24727\n",
      "[61]\tvalidation_0-error:0.24727\n",
      "[62]\tvalidation_0-error:0.24727\n",
      "[63]\tvalidation_0-error:0.24784\n",
      "[64]\tvalidation_0-error:0.24842\n",
      "[65]\tvalidation_0-error:0.24784\n",
      "[66]\tvalidation_0-error:0.24727\n",
      "[67]\tvalidation_0-error:0.24669\n",
      "[68]\tvalidation_0-error:0.24669\n",
      "[69]\tvalidation_0-error:0.24669\n",
      "[70]\tvalidation_0-error:0.24554\n",
      "[71]\tvalidation_0-error:0.24612\n",
      "[72]\tvalidation_0-error:0.24554\n",
      "[73]\tvalidation_0-error:0.24612\n",
      "[74]\tvalidation_0-error:0.24612\n",
      "[75]\tvalidation_0-error:0.24612\n",
      "[76]\tvalidation_0-error:0.24612\n",
      "[77]\tvalidation_0-error:0.24554\n",
      "[78]\tvalidation_0-error:0.24612\n",
      "[79]\tvalidation_0-error:0.24612\n",
      "[80]\tvalidation_0-error:0.24497\n",
      "[81]\tvalidation_0-error:0.24612\n",
      "[82]\tvalidation_0-error:0.24669\n",
      "[83]\tvalidation_0-error:0.24669\n",
      "[84]\tvalidation_0-error:0.24669\n",
      "[85]\tvalidation_0-error:0.24727\n",
      "[86]\tvalidation_0-error:0.24727\n",
      "[87]\tvalidation_0-error:0.24669\n",
      "[88]\tvalidation_0-error:0.24727\n",
      "[89]\tvalidation_0-error:0.24727\n",
      "[90]\tvalidation_0-error:0.24784\n",
      "[91]\tvalidation_0-error:0.24899\n",
      "[92]\tvalidation_0-error:0.24784\n",
      "[93]\tvalidation_0-error:0.24784\n",
      "[94]\tvalidation_0-error:0.24899\n",
      "[95]\tvalidation_0-error:0.24784\n",
      "[96]\tvalidation_0-error:0.24842\n",
      "[97]\tvalidation_0-error:0.24842\n",
      "[98]\tvalidation_0-error:0.24957\n",
      "[99]\tvalidation_0-error:0.24899\n"
     ]
    },
    {
     "data": {
      "text/plain": [
       "XGBRegressor(base_score=0.5, booster='gbtree', colsample_bylevel=1,\n",
       "             colsample_bynode=1, colsample_bytree=1, enable_categorical=False,\n",
       "             gamma=0, gpu_id=-1, importance_type=None,\n",
       "             interaction_constraints='', learning_rate=0.01, max_delta_step=0,\n",
       "             max_depth=1000, min_child_weight=1, missing=nan,\n",
       "             monotone_constraints='()', n_estimators=100, n_jobs=12,\n",
       "             num_parallel_tree=1, predictor='auto', random_state=0, reg_alpha=0,\n",
       "             reg_lambda=1, scale_pos_weight=1, subsample=1, tree_method='exact',\n",
       "             validate_parameters=1, verbosity=None)"
      ]
     },
     "execution_count": 54,
     "metadata": {},
     "output_type": "execute_result"
    }
   ],
   "source": [
    "xgb_reg = xgb.XGBRegressor(max_depth=1000, n_estimators=100, learning_rate=0.01)\n",
    "\n",
    "xgb_reg.fit(X_train, y_train,\n",
    "    eval_set=[(X_val, y_val)],  \n",
    "    early_stopping_rounds= 100,\n",
    "    eval_metric = \"error\")"
   ]
  },
  {
   "cell_type": "code",
   "execution_count": null,
   "id": "aa225fd8",
   "metadata": {},
   "outputs": [],
   "source": []
  }
 ],
 "metadata": {
  "kernelspec": {
   "display_name": "Python 3 (ipykernel)",
   "language": "python",
   "name": "python3"
  },
  "language_info": {
   "codemirror_mode": {
    "name": "ipython",
    "version": 3
   },
   "file_extension": ".py",
   "mimetype": "text/x-python",
   "name": "python",
   "nbconvert_exporter": "python",
   "pygments_lexer": "ipython3",
   "version": "3.8.12"
  },
  "toc": {
   "base_numbering": 1,
   "nav_menu": {},
   "number_sections": true,
   "sideBar": true,
   "skip_h1_title": false,
   "title_cell": "Table of Contents",
   "title_sidebar": "Contents",
   "toc_cell": false,
   "toc_position": {},
   "toc_section_display": true,
   "toc_window_display": false
  }
 },
 "nbformat": 4,
 "nbformat_minor": 5
}
